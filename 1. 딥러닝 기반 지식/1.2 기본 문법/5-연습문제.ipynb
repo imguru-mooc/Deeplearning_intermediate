{
 "cells": [
  {
   "cell_type": "markdown",
   "metadata": {},
   "source": [
    "연습문제 1번"
   ]
  },
  {
   "cell_type": "code",
   "execution_count": null,
   "metadata": {},
   "outputs": [],
   "source": [
    "price, money = map(int, input(\"물건값, 지불금액 입력:\").split())\n",
    "change = money - price\n",
    "# print(money, price, change)\n",
    "\n",
    "print(\"5,000원  %d개\"%(change//5000))\n",
    "change %= 5000\n",
    "print(\"1,000원  %d개\"%(change//1000))\n",
    "change %= 1000\n",
    "print(\"500원  %d개\"%(change//500))\n",
    "change %= 500\n",
    "print(\"100원  %d개\"%(change//100))\n",
    "change %= 100\n",
    "print(\"50원  %d개\"%(change//50))\n",
    "change %= 50\n",
    "print(\"10원  %d개\"%(change//10))"
   ]
  },
  {
   "cell_type": "markdown",
   "metadata": {},
   "source": [
    "연습문제 2번"
   ]
  },
  {
   "cell_type": "code",
   "execution_count": null,
   "metadata": {},
   "outputs": [],
   "source": [
    "kor, eng, math = map( int, input(\"점수입력 : \").split())\n",
    "# print(kor, eng, math)\n",
    "total = kor + eng + math\n",
    "aver = total/3.0\n",
    "print(\"국어=%d, 영어=%d, 수학=%d, 총점=%d, 평균=%5.2f\"%\n",
    "          (kor, eng, math, total, aver))"
   ]
  },
  {
   "cell_type": "markdown",
   "metadata": {},
   "source": [
    "연습문제 3번"
   ]
  },
  {
   "cell_type": "code",
   "execution_count": 10,
   "metadata": {},
   "outputs": [
    {
     "name": "stdout",
     "output_type": "stream",
     "text": [
      "2021 4 5 11 23 34\n",
      "2021-4-5T11:23:34\n"
     ]
    }
   ],
   "source": [
    "year, month, day, hour, minute, second = input().split()\n",
    "print(year,month,day,sep=\"-\",end=\"T\")\n",
    "print(hour,minute,second,sep=\":\")"
   ]
  },
  {
   "cell_type": "code",
   "execution_count": 13,
   "metadata": {},
   "outputs": [
    {
     "name": "stdout",
     "output_type": "stream",
     "text": [
      "2021 4 5 1 2 3\n",
      "2021-04-05T01:02:03\n"
     ]
    }
   ],
   "source": [
    "year, month, day, hour, minute, second = map(int,input().split())\n",
    "print(\"%d-%02d-%02d\"%(year,month,day), end=\"T\")\n",
    "print(\"%02d:%02d:%02d\"%(hour,minute,second))"
   ]
  }
 ],
 "metadata": {
  "kernelspec": {
   "display_name": "Python 3",
   "language": "python",
   "name": "python3"
  },
  "language_info": {
   "codemirror_mode": {
    "name": "ipython",
    "version": 3
   },
   "file_extension": ".py",
   "mimetype": "text/x-python",
   "name": "python",
   "nbconvert_exporter": "python",
   "pygments_lexer": "ipython3",
   "version": "3.8.5"
  }
 },
 "nbformat": 4,
 "nbformat_minor": 4
}
