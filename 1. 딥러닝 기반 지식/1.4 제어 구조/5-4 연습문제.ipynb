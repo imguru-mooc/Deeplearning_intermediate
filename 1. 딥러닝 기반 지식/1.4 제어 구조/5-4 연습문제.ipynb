{
 "cells": [
  {
   "cell_type": "markdown",
   "metadata": {},
   "source": [
    "연습문제 4번"
   ]
  },
  {
   "cell_type": "code",
   "execution_count": 9,
   "metadata": {},
   "outputs": [
    {
     "name": "stdout",
     "output_type": "stream",
     "text": [
      "입력 : 5\n",
      "    * \n",
      "  * * * \n",
      "* * * * * \n",
      "  * * * \n",
      "    * \n"
     ]
    }
   ],
   "source": [
    "n = int(input(\"입력 : \"))\n",
    "\n",
    "inc = 0\n",
    "sign = 1\n",
    "for i in range(n):\n",
    "    for j in range(n//2 - inc ):\n",
    "        print(\" \", end=\" \")    \n",
    "    for j in range(inc*2+1):\n",
    "        print(\"*\", end=\" \")\n",
    "    print()\n",
    "    if i == n//2:\n",
    "        sign = -sign\n",
    "    inc += sign"
   ]
  },
  {
   "cell_type": "markdown",
   "metadata": {},
   "source": [
    "연습문제 5번"
   ]
  },
  {
   "cell_type": "code",
   "execution_count": 17,
   "metadata": {},
   "outputs": [
    {
     "name": "stdout",
     "output_type": "stream",
     "text": [
      "입력 : 2000 4 30\n",
      "일요일\n"
     ]
    }
   ],
   "source": [
    "year, month, day = map(int, input(\"입력 : \").split())\n",
    "m_days = [[31,28,31,30,31,30,31,31,30,31,30,31],\n",
    "          [31,29,31,30,31,30,31,31,30,31,30,31]]         \n",
    "week = [\"일\",\"월\",\"화\",\"수\",\"목\",\"금\",\"토\"]\n",
    "# print(year, month, day)\n",
    "\n",
    "total = 0\n",
    "for i in range(1,year):\n",
    "    total += 365\n",
    "    if( ((i%4==0) and (i%100!=0)) or (i%400==0)):\n",
    "        total += 1\n",
    "# print(total)\n",
    "\n",
    "for i in range(month-1):\n",
    "    if( ((year%4==0) and (year%100!=0)) or (year%400==0)):\n",
    "        total += m_days[1][i]\n",
    "    else:\n",
    "        total += m_days[0][i]\n",
    "    \n",
    "total += day\n",
    "print( week[total%7] + \"요일\")\n"
   ]
  },
  {
   "cell_type": "code",
   "execution_count": null,
   "metadata": {},
   "outputs": [],
   "source": []
  }
 ],
 "metadata": {
  "kernelspec": {
   "display_name": "Python 3",
   "language": "python",
   "name": "python3"
  },
  "language_info": {
   "codemirror_mode": {
    "name": "ipython",
    "version": 3
   },
   "file_extension": ".py",
   "mimetype": "text/x-python",
   "name": "python",
   "nbconvert_exporter": "python",
   "pygments_lexer": "ipython3",
   "version": "3.8.5"
  }
 },
 "nbformat": 4,
 "nbformat_minor": 4
}
